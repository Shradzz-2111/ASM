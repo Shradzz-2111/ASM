{
 "cells": [
  {
   "cell_type": "code",
   "execution_count": 1,
   "id": "25e9a061",
   "metadata": {},
   "outputs": [],
   "source": [
    "from ase import Atoms\n",
    "from ase.build import nanotube\n",
    "from ase import calculators\n",
    "from ase.visualize import view \n",
    "from ase.build import molecule\n",
    "from ase.build import graphene_nanoribbon\n",
    "from ase.calculators.emt import EMT\n",
    "import numpy as np\n",
    "from ase.build import molecule\n",
    "import matplotlib.pyplot as plt\n",
    "#gn.get_positions()\n",
    "#gn.get_angle()\n",
    "#gn.get_angular_momentum()\n",
    "#gn.get_cell_lengths_and_angles()\n",
    "#gn.atom.cell.cellpar()\n",
    "#gn.get_temperature()\n",
    "#gn.get_total_energy()\n",
    "#gn.rotate(20,'x')\n",
    "#gn.rotate(30,'y')\n",
    "#view(gn,data=None, viewer='ase')"
   ]
  },
  {
   "cell_type": "code",
   "execution_count": null,
   "id": "8183a374",
   "metadata": {},
   "outputs": [],
   "source": [
    "from ase.collections import g2\n",
    "#print(g2.names)\n",
    "from ase.build.molecule import extra\n",
    "print(extra.keys())"
   ]
  },
  {
   "cell_type": "code",
   "execution_count": 2,
   "id": "1a9d8cd1",
   "metadata": {},
   "outputs": [
    {
     "name": "stdout",
     "output_type": "stream",
     "text": [
      "Collecting ase\n",
      "  Using cached ase-3.22.1-py3-none-any.whl (2.2 MB)\n",
      "Requirement already satisfied: matplotlib>=3.1.0 in d:\\anaconda\\lib\\site-packages (from ase) (3.7.2)\n",
      "Requirement already satisfied: numpy>=1.15.0 in d:\\anaconda\\lib\\site-packages (from ase) (1.24.3)\n",
      "Requirement already satisfied: scipy>=1.1.0 in d:\\anaconda\\lib\\site-packages (from ase) (1.11.1)\n",
      "Requirement already satisfied: contourpy>=1.0.1 in d:\\anaconda\\lib\\site-packages (from matplotlib>=3.1.0->ase) (1.0.5)\n",
      "Requirement already satisfied: cycler>=0.10 in d:\\anaconda\\lib\\site-packages (from matplotlib>=3.1.0->ase) (0.11.0)\n",
      "Requirement already satisfied: fonttools>=4.22.0 in d:\\anaconda\\lib\\site-packages (from matplotlib>=3.1.0->ase) (4.25.0)\n",
      "Requirement already satisfied: kiwisolver>=1.0.1 in d:\\anaconda\\lib\\site-packages (from matplotlib>=3.1.0->ase) (1.4.4)\n",
      "Requirement already satisfied: packaging>=20.0 in d:\\anaconda\\lib\\site-packages (from matplotlib>=3.1.0->ase) (23.1)\n",
      "Requirement already satisfied: pillow>=6.2.0 in d:\\anaconda\\lib\\site-packages (from matplotlib>=3.1.0->ase) (9.4.0)\n",
      "Requirement already satisfied: pyparsing<3.1,>=2.3.1 in d:\\anaconda\\lib\\site-packages (from matplotlib>=3.1.0->ase) (3.0.9)\n",
      "Requirement already satisfied: python-dateutil>=2.7 in d:\\anaconda\\lib\\site-packages (from matplotlib>=3.1.0->ase) (2.8.2)\n",
      "Requirement already satisfied: six>=1.5 in d:\\anaconda\\lib\\site-packages (from python-dateutil>=2.7->matplotlib>=3.1.0->ase) (1.16.0)\n",
      "Installing collected packages: ase\n",
      "Successfully installed ase-3.22.1\n"
     ]
    }
   ],
   "source": [
    "!pip3 install ase"
   ]
  },
  {
   "cell_type": "code",
   "execution_count": 8,
   "id": "fa9ab8ec",
   "metadata": {},
   "outputs": [],
   "source": [
    "gn_3 = nanotube(3,3,length=6,bond=1.42,symbol='C')\n",
    "gn_5 = nanotube(5,5,length=6,bond=1.42,symbol='C')\n",
    "gn_7 = nanotube(7,12,length=6,bond=1.42,symbol='C')\n",
    "gn_9 = nanotube(7,24,length=6,bond=1.42,symbol='C')"
   ]
  },
  {
   "cell_type": "markdown",
   "id": "03861776",
   "metadata": {},
   "source": [
    "#gnr_3 = graphene_nanoribbon(3,3)\n",
    "gnr_5 = graphene_nanoribbon(5,5)\n",
    "gnr_7 = graphene_nanoribbon(7,7)\n",
    "gnr_9 = graphene_nanoribbon(9,9)"
   ]
  },
  {
   "cell_type": "markdown",
   "id": "4226ac96",
   "metadata": {},
   "source": [
    "view(gnr_3,data=None, viewer = 'ase')\n",
    "view(gnr_5,data=None, viewer = 'ase')\n",
    "view(gnr_7,data=None, viewer = 'ase')\n",
    "view(gnr_9,data=None, viewer = 'ase')"
   ]
  },
  {
   "cell_type": "markdown",
   "id": "ffd52b5c",
   "metadata": {},
   "source": [
    "view(gn_3,data=None, viewer = 'ase')\n",
    "view(gn_5,data=None, viewer = 'ase')\n",
    "view(gn_7,data=None, viewer = 'ase')\n",
    "view(gn_9,data=None, viewer = 'ase')"
   ]
  },
  {
   "cell_type": "code",
   "execution_count": 3,
   "id": "3d07b04b",
   "metadata": {},
   "outputs": [],
   "source": [
    "h2o = molecule('H2O')\n",
    "h2o_init_position = h2o.get_positions()"
   ]
  },
  {
   "cell_type": "code",
   "execution_count": 4,
   "id": "06969524",
   "metadata": {},
   "outputs": [],
   "source": [
    "nh3 = molecule('NH3')\n",
    "nh3_init_position = nh3.get_positions()"
   ]
  },
  {
   "cell_type": "code",
   "execution_count": 5,
   "id": "b8dfa8d2",
   "metadata": {},
   "outputs": [],
   "source": [
    "co = molecule('CO')\n",
    "co_init_position = co.get_positions()"
   ]
  },
  {
   "cell_type": "code",
   "execution_count": 9,
   "id": "dd787aae",
   "metadata": {},
   "outputs": [
    {
     "data": {
      "text/plain": [
       "<Popen: returncode: None args: ['D:\\\\anaconda\\\\python.exe', '-m', 'ase', 'gu...>"
      ]
     },
     "execution_count": 9,
     "metadata": {},
     "output_type": "execute_result"
    }
   ],
   "source": [
    "view(gn_5,data=None,viewer='ase')"
   ]
  },
  {
   "cell_type": "markdown",
   "id": "df466ab8",
   "metadata": {},
   "source": [
    "gn = [gn_3,gn_5,gn_7,gn_9]\n",
    "len(gn)"
   ]
  },
  {
   "cell_type": "markdown",
   "id": "144bb980",
   "metadata": {},
   "source": [
    "view(h2o,data=None, viewer = 'ase')"
   ]
  },
  {
   "cell_type": "markdown",
   "id": "f724e1f9",
   "metadata": {},
   "source": [
    "view(nh3,data=None, viewer = 'ase')"
   ]
  },
  {
   "cell_type": "markdown",
   "id": "ea6664a7",
   "metadata": {},
   "source": [
    "view(co,data=None, viewer = 'ase')"
   ]
  },
  {
   "cell_type": "code",
   "execution_count": 8,
   "id": "70ceea37",
   "metadata": {},
   "outputs": [],
   "source": [
    "#gnr_3.calc = EMT()\n",
    "#gnr_5.calc = EMT()\n",
    "#gnr_7.calc = EMT()\n",
    "#gnr_9.calc = EMT()\n",
    "gn_3.calc = EMT()\n",
    "gn_5.calc = EMT()\n",
    "gn_7.calc = EMT()\n",
    "gn_9.calc = EMT()\n",
    "h2o.calc = EMT()\n",
    "nh3.calc = EMT()\n",
    "co.calc = EMT()\n"
   ]
  },
  {
   "cell_type": "code",
   "execution_count": 9,
   "id": "84dc894a",
   "metadata": {},
   "outputs": [
    {
     "data": {
      "text/plain": [
       "[13.873149286345914, 547.7692392753953, 1412.5666306086553, 4068.451293500184]"
      ]
     },
     "execution_count": 9,
     "metadata": {},
     "output_type": "execute_result"
    }
   ],
   "source": [
    "gn_potential_energy = []\n",
    "gn_potential_energy.append(gn_3.get_potential_energy())\n",
    "gn_potential_energy.append(gn_5.get_potential_energy())\n",
    "gn_potential_energy.append(gn_7.get_potential_energy())\n",
    "gn_potential_energy.append(gn_9.get_potential_energy())    \n",
    "gn_potential_energy"
   ]
  },
  {
   "cell_type": "markdown",
   "id": "db27dfbf",
   "metadata": {},
   "source": [
    "gnr_potential_energy = []\n",
    "gnr_potential_energy.append(gnr_3.get_potential_energy())\n",
    "gnr_potential_energy.append(gnr_5.get_potential_energy())\n",
    "gnr_potential_energy.append(gnr_7.get_potential_energy())\n",
    "gnr_potential_energy.append(gnr_9.get_potential_energy())\n",
    "gnr_potential_energy"
   ]
  },
  {
   "cell_type": "code",
   "execution_count": 10,
   "id": "7f43674f",
   "metadata": {},
   "outputs": [
    {
     "data": {
      "text/plain": [
       "2.619811483369738"
      ]
     },
     "execution_count": 10,
     "metadata": {},
     "output_type": "execute_result"
    }
   ],
   "source": [
    "h2o_potential = h2o.get_potential_energy()\n",
    "h2o_potential"
   ]
  },
  {
   "cell_type": "code",
   "execution_count": 11,
   "id": "04ae9d06",
   "metadata": {},
   "outputs": [
    {
     "data": {
      "text/plain": [
       "3.366507253036981"
      ]
     },
     "execution_count": 11,
     "metadata": {},
     "output_type": "execute_result"
    }
   ],
   "source": [
    "nh3_potential = nh3.get_potential_energy()\n",
    "nh3_potential"
   ]
  },
  {
   "cell_type": "code",
   "execution_count": 12,
   "id": "1c193b5c",
   "metadata": {},
   "outputs": [
    {
     "data": {
      "text/plain": [
       "0.7862094936389532"
      ]
     },
     "execution_count": 12,
     "metadata": {},
     "output_type": "execute_result"
    }
   ],
   "source": [
    "co_potential = co.get_potential_energy()\n",
    "co_potential"
   ]
  },
  {
   "cell_type": "markdown",
   "id": "52610878",
   "metadata": {},
   "source": [
    "h2o.get_positions() - h2o_init_position"
   ]
  },
  {
   "cell_type": "markdown",
   "id": "8a36056d",
   "metadata": {},
   "source": [
    "combined_gn3_h2o = gn_3 + h2o\n",
    "combined_gn5_h2o = gn_5 + h2o\n",
    "combined_gn7_h2o = gn_7 + h2o\n",
    "combined_gn9_h2o = gn_9 + h2o\n",
    "view(combined_gn3_h2o, viewer='ase')\n",
    "view(combined_gn5_h2o, viewer='ase')\n",
    "view(combined_gn7_h2o, viewer='ase')\n",
    "view(combined_gn9_h2o, viewer='ase')"
   ]
  },
  {
   "cell_type": "markdown",
   "id": "8d656d00",
   "metadata": {},
   "source": [
    "combined_potential = []\n",
    "combined_gn3_h2o.calc = EMT()\n",
    "combined_gn5_h2o.calc = EMT()\n",
    "combined_gn7_h2o.calc = EMT()\n",
    "combined_gn9_h2o.calc = EMT()\n",
    "combined_potential.append(combined_gn3_h2o.get_potential_energy())\n",
    "combined_potential.append(combined_gn5_h2o.get_potential_energy())\n",
    "combined_potential.append(combined_gn7_h2o.get_potential_energy())\n",
    "combined_potential.append(combined_gn9_h2o.get_potential_energy())\n",
    "combined_potential"
   ]
  },
  {
   "cell_type": "code",
   "execution_count": 13,
   "id": "886120cc",
   "metadata": {},
   "outputs": [],
   "source": [
    "values = np.arange(-2,5,0.01)\n",
    "values = values.astype(np.float32)"
   ]
  },
  {
   "cell_type": "code",
   "execution_count": 17,
   "id": "240059ce",
   "metadata": {},
   "outputs": [
    {
     "data": {
      "text/plain": [
       "[550.3882323220759]"
      ]
     },
     "execution_count": 17,
     "metadata": {},
     "output_type": "execute_result"
    }
   ],
   "source": [
    "potential_energy_h2o_in_gn_3 = []\n",
    "#potential_energy = np.array(potential_energy)\n",
    "#for val in values:\n",
    "h2o.position = h2o_init_position \n",
    "h2o[0].position = h2o_init_position[0] + [0,0,0]\n",
    "h2o[1].position = h2o_init_position[1] + [0,0,0] \n",
    "h2o[2].position = h2o_init_position[2] + [0,0,0]\n",
    "combined_gn3_h2o = gn_5 + h2o\n",
    "combined_gn3_h2o.calc = EMT()\n",
    "    #print(combined.get_potential_energy())\n",
    "potential_energy_h2o_in_gn_3.append(combined_gn3_h2o.get_potential_energy())\n",
    "    #view(combined_gn3_h2o,data=None, viewer='ase')\n",
    "    \n",
    "potential_energy_h2o_in_gn_3\n",
    "    "
   ]
  },
  {
   "cell_type": "markdown",
   "id": "1bd7e636",
   "metadata": {},
   "source": [
    "plt.plot(values, potential_energy_h2o_in_gn_3,marker='x')\n",
    "plt.ylabel('Potential_Energy')\n",
    "plt.xlabel('Distance from Origin')\n",
    "plt.title(\"3,3-Nanotube with H2O\")"
   ]
  },
  {
   "cell_type": "markdown",
   "id": "b890d60a",
   "metadata": {},
   "source": [
    "potential_energy_h2o_in_gn_5 = []\n",
    "#potential_energy = np.array(potential_energy)\n",
    "for val in values:\n",
    "    h2o.position = h2o_init_position \n",
    "    h2o[0].position = h2o_init_position[0] + [0,0,val]\n",
    "    h2o[1].position = h2o_init_position[1] + [0,0,val] \n",
    "    h2o[2].position = h2o_init_position[2] + [0,0,val]\n",
    "    \n",
    "    combined_gn5_h2o = gn_5 + h2o\n",
    "    combined_gn5_h2o.calc = EMT()\n",
    "    #print(combined.get_potential_energy())\n",
    "    potential_energy_h2o_in_gn_5.append(combined_gn5_h2o.get_potential_energy())\n",
    "    \n",
    "potential_energy_h2o_in_gn_5"
   ]
  },
  {
   "cell_type": "markdown",
   "id": "aa7e43c7",
   "metadata": {},
   "source": [
    "plt.plot(values,potential_energy_h2o_in_gn_5,marker='o',color='blue')\n",
    "plt.xlabel('Distance From Origin')\n",
    "plt.ylabel('Potential_energy')\n",
    "plt.title(\"5,5-Nanotube + H2O \")"
   ]
  },
  {
   "cell_type": "markdown",
   "id": "4e7f1d1b",
   "metadata": {},
   "source": [
    "potential_energy_h2o_in_gn_7 = []\n",
    "#potential_energy = np.array(potential_energy)\n",
    "for val in values:\n",
    "    h2o.position = h2o_init_position \n",
    "    h2o[0].position = h2o_init_position[0] + [0,0,val]\n",
    "    h2o[1].position = h2o_init_position[1] + [0,0,val] \n",
    "    h2o[2].position = h2o_init_position[2] + [0,0,val]\n",
    "    \n",
    "    combined_gn7_h2o = gn_7 + h2o\n",
    "    combined_gn7_h2o.calc = EMT()\n",
    "    #print(combined.get_potential_energy())\n",
    "    potential_energy_h2o_in_gn_7.append(combined_gn7_h2o.get_potential_energy())\n",
    "    \n",
    "potential_energy_h2o_in_gn_7"
   ]
  },
  {
   "cell_type": "markdown",
   "id": "4775477e",
   "metadata": {},
   "source": [
    "plt.plot(values,potential_energy_h2o_in_gn_7,color='blue',marker='.')\n",
    "plt.xlabel('Distance From Origin')\n",
    "plt.ylabel('Potential_energy')\n",
    "plt.title(\"7,7-Nanotube + H2O \")"
   ]
  },
  {
   "cell_type": "markdown",
   "id": "5cb2bf60",
   "metadata": {},
   "source": [
    "potential_energy_h2o_in_gn_9 = []\n",
    "#potential_energy = np.array(potential_energy)\n",
    "for val in values:\n",
    "    h2o.position = h2o_init_position \n",
    "    h2o[0].position = h2o_init_position[0] + [0,0,val]\n",
    "    h2o[1].position = h2o_init_position[1] + [0,0,val] \n",
    "    h2o[2].position = h2o_init_position[2] + [0,0,val]\n",
    "    \n",
    "    combined_gn7_h2o = gn_9 + h2o\n",
    "    combined_gn9_h2o.calc = EMT()\n",
    "    #print(combined.get_potential_energy())\n",
    "    potential_energy_h2o_in_gn_9.append(combined_gn9_h2o.get_potential_energy())\n",
    "    \n",
    "potential_energy_h2o_in_gn_9"
   ]
  },
  {
   "cell_type": "markdown",
   "id": "2c47f8ae",
   "metadata": {},
   "source": [
    "plt.plot(values,potential_energy_h2o_in_gn_9,marker='<')\n",
    "plt.xlabel('Distance From Origin')\n",
    "plt.ylabel('Potential_energy')\n",
    "plt.title(\"9,9-Nanotube + H2O \")"
   ]
  },
  {
   "cell_type": "markdown",
   "id": "c5d4a215",
   "metadata": {},
   "source": [
    "difference_gn3 = []\n",
    "n_gn3 = len(potential_energy_h2o_in_gn_3)\n",
    "for i in range(n_gn3):\n",
    "    difference_gn3.append(gn_potential_energy[0] + h2o_potential - potential_energy_h2o_in_gn_3[i])\n",
    "    \n",
    "difference_gn3\n",
    "#n_gn3"
   ]
  },
  {
   "cell_type": "markdown",
   "id": "618c5f1a",
   "metadata": {},
   "source": [
    "plt.plot(values,difference_gn3,color='red',marker='x')\n",
    "plt.xlabel('Distance From Origin')\n",
    "plt.ylabel('Potential_energy_Difference')\n",
    "plt.title(\"Energy Difference btw Combined Systema and indiviual system of(3,3-Nanotube, H2O) \")"
   ]
  },
  {
   "cell_type": "markdown",
   "id": "79cbb005",
   "metadata": {},
   "source": [
    "difference_gn5 = []\n",
    "n_gn5 = len(potential_energy_h2o_in_gn_5)\n",
    "for i in range(n_gn5):\n",
    "    difference_gn5.append(gn_potential_energy[1] + h2o_potential - potential_energy_h2o_in_gn_5[i])\n",
    "    \n",
    "difference_gn5\n",
    "#n_gn5"
   ]
  },
  {
   "cell_type": "markdown",
   "id": "d8a5eb95",
   "metadata": {},
   "source": [
    "plt.plot(values,difference_gn5,marker='o',color='red')\n",
    "plt.xlabel('Distance From Origin')\n",
    "plt.ylabel('Potential_energy_Difference')\n",
    "plt.title(\"Energy Difference btw Combined Systema and indiviual system of(5,5-Nanotube, H2O) \")"
   ]
  },
  {
   "cell_type": "markdown",
   "id": "1c88c2cc",
   "metadata": {},
   "source": [
    "difference_gn7 = []\n",
    "n_gn7 = len(potential_energy_h2o_in_gn_7)\n",
    "for i in range(n_gn7):\n",
    "    difference_gn7.append(gn_potential_energy[2] + h2o_potential - potential_energy_h2o_in_gn_7[i])\n",
    "    \n",
    "difference_gn7\n",
    "#n_gn7"
   ]
  },
  {
   "cell_type": "markdown",
   "id": "6a704247",
   "metadata": {},
   "source": [
    "plt.plot(values,difference_gn7,marker='.',color='red')\n",
    "plt.xlabel('Distance From Origin')\n",
    "plt.ylabel('Potential_energy_Difference')\n",
    "plt.title(\"Energy Difference btw Combined Systema and indiviual system of(7,7-Nanotube, H2O) \")"
   ]
  },
  {
   "cell_type": "markdown",
   "id": "ed7b65d6",
   "metadata": {},
   "source": [
    "difference_gn9 = []\n",
    "n_gn9 = len(potential_energy_h2o_in_gn_9)\n",
    "for i in range(n_gn9):\n",
    "    difference_gn9.append(gn_potential_energy[3] + h2o_potential - potential_energy_h2o_in_gn_9[i])\n",
    "    \n",
    "difference_gn9\n",
    "#n_gn3"
   ]
  },
  {
   "cell_type": "markdown",
   "id": "b76239c9",
   "metadata": {},
   "source": [
    "plt.plot(values,difference_gn9,marker='4',color='red')\n",
    "plt.xlabel('Distance From Origin')\n",
    "plt.ylabel('Potential_energy_Difference')\n",
    "plt.title(\"Energy Difference btw Combined Systema and indiviual system of(9,9-Nanotube, H2O) \")"
   ]
  },
  {
   "cell_type": "markdown",
   "id": "d4a0bc77",
   "metadata": {},
   "source": [
    "potential_energy_h2o_in_gn_3 = np.array(potential_energy_h2o_in_gn_3)\n",
    "potential_energy_h2o_in_gn_5 = np.array(potential_energy_h2o_in_gn_5)\n",
    "potential_energy_h2o_in_gn_7 = np.array(potential_energy_h2o_in_gn_7)\n",
    "potential_energy_h2o_in_gn_9 = np.array(potential_energy_h2o_in_gn_9)"
   ]
  },
  {
   "cell_type": "markdown",
   "id": "c4425f02",
   "metadata": {},
   "source": [
    "potential_h2o_mean = [0]\n",
    "potential_energy_h2o_in_gn_3_mean = potential_energy_h2o_in_gn_3.mean()\n",
    "#potential_h2o_mean.append(potential_energy_h2o_in_gn_3_mean)\n",
    "#potential_energy_h2o_in_gn_5_mean = potential_energy_h2o_in_gn_5.mean()\n",
    "#potential_h2o_mean = potential_h2o_mean.append(potential_energy_h2o_in_gn_5_mean)\n",
    "#potential_energy_h2o_in_gn_7_mean = potential_energy_h2o_in_gn_7.mean()\n",
    "#potential_h2o_mean = potential_h2o_mean.append(potential_energy_h2o_in_gn_7_mean)\n",
    "#potential_energy_h2o_in_gn_9_mean = potential_energy_h2o_in_gn_9.mean()\n",
    "#potential_h2o_mean = potential_h2o_mean.append(potential_energy_h2o_in_gn_9_mean)\n",
    "potential_energy_h2o_in_gn_9_mean\n"
   ]
  },
  {
   "cell_type": "code",
   "execution_count": null,
   "id": "6d917279",
   "metadata": {},
   "outputs": [],
   "source": []
  },
  {
   "cell_type": "code",
   "execution_count": null,
   "id": "755594ad",
   "metadata": {},
   "outputs": [],
   "source": []
  },
  {
   "cell_type": "code",
   "execution_count": null,
   "id": "aaf3c390",
   "metadata": {},
   "outputs": [],
   "source": []
  },
  {
   "cell_type": "code",
   "execution_count": null,
   "id": "9fd03024",
   "metadata": {},
   "outputs": [],
   "source": []
  },
  {
   "cell_type": "markdown",
   "id": "e213bf79",
   "metadata": {},
   "source": [
    "potential_energy_nh3_in_gn3 = []\n",
    "#potential_energy = np.array(potential_energy)\n",
    "for val in values:\n",
    "    nh3.position = nh3_init_position \n",
    "    nh3[0].position = nh3_init_position[0] + [0,0,val]\n",
    "    nh3[1].position = nh3_init_position[1] + [0,0,val] \n",
    "    nh3[2].position = nh3_init_position[2] + [0,0,val]\n",
    "    nh3[3].position = nh3_init_position[3] + [0,0,val]\n",
    "    \n",
    "    combined_gn3_nh3 = gn_3 + nh3\n",
    "    combined_gn3_nh3.calc = EMT()\n",
    "    #print(combined.get_potential_energy())\n",
    "    potential_energy_nh3_in_gn3.append(combined_gn3_nh3.get_potential_energy())\n",
    "    \n",
    "potential_energy_nh3_in_gn3   "
   ]
  },
  {
   "cell_type": "markdown",
   "id": "ec585ac6",
   "metadata": {},
   "source": [
    "plt.plot(values, potential_energy_nh3_in_gn3,marker='x',color='green')\n",
    "plt.xlabel('Distance From Origin')\n",
    "plt.ylabel('Combined_Potential_energy')\n",
    "plt.title(\"Energy of Combined System (3,3-Nanotube, NH3) \")"
   ]
  },
  {
   "cell_type": "markdown",
   "id": "2e109e45",
   "metadata": {},
   "source": [
    "difference_nh3_gn3 = []\n",
    "n = len(values)\n",
    "for i in range(n):\n",
    "    difference_nh3_gn3.append(gn_potential_energy[0] + nh3_potential - potential_energy_nh3_in_gn3[i])\n",
    "    \n",
    "difference_nh3_gn3"
   ]
  },
  {
   "cell_type": "markdown",
   "id": "19b67738",
   "metadata": {},
   "source": [
    "plt.plot(values,difference_nh3_gn3,marker='x',color='red')\n",
    "plt.xlabel('Distance From Origin')\n",
    "plt.ylabel('Potential_energy_Difference')\n",
    "plt.title(\"Energy Difference btw Combined Systema and indiviual system of(3,3-Nanotube, NH3) \")"
   ]
  },
  {
   "cell_type": "markdown",
   "id": "99f1b324",
   "metadata": {},
   "source": [
    "potential_energy_nh3_in_gn5 = []\n",
    "#potential_energy = np.array(potential_energy)\n",
    "for val in values:\n",
    "    nh3.position = nh3_init_position \n",
    "    nh3[0].position = nh3_init_position[0] + [0,0,val]\n",
    "    nh3[1].position = nh3_init_position[1] + [0,0,val] \n",
    "    nh3[2].position = nh3_init_position[2] + [0,0,val]\n",
    "    nh3[3].position = nh3_init_position[3] + [0,0,val]\n",
    "    \n",
    "    combined_gn5_nh3 = gn_5 + nh3\n",
    "    combined_gn5_nh3.calc = EMT()\n",
    "    #print(combined.get_potential_energy())\n",
    "    potential_energy_nh3_in_gn5.append(combined_gn5_nh3.get_potential_energy())\n",
    "    \n",
    "potential_energy_nh3_in_gn5   "
   ]
  },
  {
   "cell_type": "markdown",
   "id": "53dfecac",
   "metadata": {},
   "source": [
    "plt.plot(values,potential_energy_nh3_in_gn5,marker='o',color='green')\n",
    "plt.xlabel('Distance From Origin')\n",
    "plt.ylabel('Potential_energy')\n",
    "plt.title(\"Energy of Combined System(5,5-Nanotube, NH3) \")"
   ]
  },
  {
   "cell_type": "markdown",
   "id": "7a8da92e",
   "metadata": {},
   "source": [
    "difference_nh3_gn5 =[]\n",
    "for i in range(n):\n",
    "    difference_nh3_gn5.append(gn_potential_energy[1] + nh3_potential - potential_energy_nh3_in_gn5[i])\n",
    "difference_nh3_gn5"
   ]
  },
  {
   "cell_type": "markdown",
   "id": "2fc7bc5b",
   "metadata": {},
   "source": [
    "plt.plot(values,difference_nh3_gn5,marker='x',color='red')\n",
    "plt.xlabel('Distance From Origin')\n",
    "plt.ylabel('Potential_energy_Difference')\n",
    "plt.title(\"Energy Difference btw Combined System and indiviual system of(5,5-Nanotube, NH3) \")"
   ]
  },
  {
   "cell_type": "markdown",
   "id": "7cfe7deb",
   "metadata": {},
   "source": [
    "potential_energy_nh3_in_gn7 = []\n",
    "#potential_energy = np.array(potential_energy)\n",
    "for val in values:\n",
    "    nh3.position = nh3_init_position \n",
    "    nh3[0].position = nh3_init_position[0] + [0,0,val]\n",
    "    nh3[1].position = nh3_init_position[1] + [0,0,val] \n",
    "    nh3[2].position = nh3_init_position[2] + [0,0,val]\n",
    "    nh3[3].position = nh3_init_position[3] + [0,0,val]\n",
    "    \n",
    "    combined_gn7_nh3 = gn_7 + nh3\n",
    "    combined_gn7_nh3.calc = EMT()\n",
    "    #print(combined.get_potential_energy())\n",
    "    potential_energy_nh3_in_gn7.append(combined_gn7_nh3.get_potential_energy())\n",
    "    \n",
    "potential_energy_nh3_in_gn7   "
   ]
  },
  {
   "cell_type": "markdown",
   "id": "78eed044",
   "metadata": {},
   "source": [
    "plt.plot(values,potential_energy_nh3_in_gn7,marker='.',color='green')\n",
    "plt.xlabel('Distance From Origin')\n",
    "plt.ylabel('Potential_energy')\n",
    "plt.title(\"Energy of Combined System(7,7-Nanotube, NH3) \")"
   ]
  },
  {
   "cell_type": "markdown",
   "id": "334fa83c",
   "metadata": {},
   "source": [
    "difference_nh3_gn7 =[]\n",
    "for i in range(n):\n",
    "    difference_nh3_gn7.append(gn_potential_energy[2]+ nh3_potential - potential_energy_nh3_in_gn7[i])\n",
    "difference_nh3_gn7"
   ]
  },
  {
   "cell_type": "markdown",
   "id": "1d9b0b5c",
   "metadata": {},
   "source": [
    "plt.plot(values,difference_nh3_gn7,marker='x',color='red')\n",
    "plt.xlabel('Distance From Origin')\n",
    "plt.ylabel('Potential_energy_Difference')\n",
    "plt.title(\"Energy Difference btw Combined System and indiviual system of(7,7-Nanotube, NH3) \")"
   ]
  },
  {
   "cell_type": "markdown",
   "id": "3e354582",
   "metadata": {},
   "source": [
    "potential_energy_nh3_in_gn9 = []\n",
    "#potential_energy = np.array(potential_energy)\n",
    "for val in values:\n",
    "    nh3.position = nh3_init_position \n",
    "    nh3[0].position = nh3_init_position[0] + [0,0,val]\n",
    "    nh3[1].position = nh3_init_position[1] + [0,0,val] \n",
    "    nh3[2].position = nh3_init_position[2] + [0,0,val]\n",
    "    nh3[3].position = nh3_init_position[3] + [0,0,val]\n",
    "    \n",
    "    combined_gn9_nh3 = gn_9 + nh3\n",
    "    combined_gn9_nh3.calc = EMT()\n",
    "    #print(combined.get_potential_energy())\n",
    "    potential_energy_nh3_in_gn9.append(combined_gn9_nh3.get_potential_energy())\n",
    "    \n",
    "potential_energy_nh3_in_gn9   "
   ]
  },
  {
   "cell_type": "markdown",
   "id": "ff09ca32",
   "metadata": {},
   "source": [
    "plt.plot(values,potential_energy_nh3_in_gn9,marker='4',color='green')\n",
    "plt.xlabel('Distance From Origin')\n",
    "plt.ylabel('Potential_energy')\n",
    "plt.title(\"Energy of Combined System(9,9-Nanotube, NH3) \")"
   ]
  },
  {
   "cell_type": "markdown",
   "id": "0d7635a7",
   "metadata": {},
   "source": [
    "difference_nh3_gn9 =[]\n",
    "for i in range(n):\n",
    "    difference_nh3_gn9.append(gn_potential_energy[3] + nh3_potential - potential_energy_nh3_in_gn9[i])\n",
    "difference_nh3_gn9"
   ]
  },
  {
   "cell_type": "markdown",
   "id": "9b81bff3",
   "metadata": {},
   "source": [
    "plt.plot(values,difference_nh3_gn9,marker='4',color='red')\n",
    "plt.xlabel('Distance From Origin')\n",
    "plt.ylabel('Potential_energy_Difference')\n",
    "plt.title(\"Energy Difference btw Combined System and indiviual system of(9,9-Nanotube, NH3) \")"
   ]
  },
  {
   "cell_type": "markdown",
   "id": "df4c3077",
   "metadata": {},
   "source": [
    "potential_energy_nh3_in_gn3 = np.array(potential_energy_nh3_in_gn3)\n",
    "potential_energy_nh3_in_gn_3_mean = potential_energy_nh3_in_gn3.mean()\n",
    "potential_energy_nh3_in_gn5 = np.array(potential_energy_nh3_in_gn5)\n",
    "potential_energy_nh3_in_gn_5_mean = potential_energy_nh3_in_gn5.mean()\n",
    "potential_energy_nh3_in_gn7 = np.array(potential_energy_nh3_in_gn7)\n",
    "potential_energy_nh3_in_gn_7_mean = potential_energy_nh3_in_gn7.mean()\n",
    "potential_energy_nh3_in_gn9 = np.array(potential_energy_nh3_in_gn9)\n",
    "potential_energy_nh3_in_gn_9_mean = potential_energy_nh3_in_gn9.mean()\n",
    "potential_energy_nh3_in_gn_5_mean"
   ]
  },
  {
   "cell_type": "markdown",
   "id": "5271bdbc",
   "metadata": {},
   "source": []
  },
  {
   "cell_type": "markdown",
   "id": "e9ff05fe",
   "metadata": {},
   "source": [
    "potential_energy_co_in_gn3 = []\n",
    "#potential_energy = np.array(potential_energy)\n",
    "for val in values:\n",
    "    co.position = co_init_position \n",
    "    co[0].position = co_init_position[0] + [0,0,val]\n",
    "    co[1].position = co_init_position[1] + [0,0,val] \n",
    "    \n",
    "    combined_co_gn3 = gn_3 + co\n",
    "    combined_co_gn3.calc = EMT()\n",
    "    #print(combined.get_potential_energy())\n",
    "    potential_energy_co_in_gn3.append(combined_co_gn3.get_potential_energy())\n",
    "    \n",
    "potential_energy_co_in_gn3"
   ]
  },
  {
   "cell_type": "markdown",
   "id": "bb0d1e12",
   "metadata": {},
   "source": [
    "plt.plot(values, potential_energy_co_in_gn3,marker='x',color='black')\n",
    "plt.xlabel('Distance From Origin')\n",
    "plt.ylabel('Potential_energy')\n",
    "plt.title(\"Energy of Combined System(3,3-Nanotube, CO) \")"
   ]
  },
  {
   "cell_type": "markdown",
   "id": "00500eb2",
   "metadata": {},
   "source": [
    "difference_co_gn3 =[]\n",
    "for i in range(n):\n",
    "    difference_co_gn3.append(gn_potential_energy[0] + co_potential - potential_energy_co_in_gn3[i])\n",
    "    \n",
    "difference_co_gn3"
   ]
  },
  {
   "cell_type": "markdown",
   "id": "3043332f",
   "metadata": {},
   "source": [
    "plt.plot(values,difference_co_gn3,marker='x',color='red')\n",
    "plt.xlabel('Distance From Origin')\n",
    "plt.ylabel('Potential_energy_Difference')\n",
    "plt.title(\"Energy Difference btw Combined System and indiviual system of(3,3-Nanotube,CO) \")"
   ]
  },
  {
   "cell_type": "markdown",
   "id": "a5169529",
   "metadata": {},
   "source": [
    "potential_energy_co_in_gn5 = []\n",
    "#potential_energy = np.array(potential_energy)\n",
    "for val in values:\n",
    "    co.position = co_init_position \n",
    "    co[0].position = co_init_position[0] + [0,0,val]\n",
    "    co[1].position = co_init_position[1] + [0,0,val] \n",
    "    \n",
    "    combined_co_gn5 = gn_5 + co\n",
    "    combined_co_gn5.calc = EMT()\n",
    "    #print(combined.get_potential_energy())\n",
    "    potential_energy_co_in_gn5.append(combined_co_gn5.get_potential_energy())\n",
    "    \n",
    "potential_energy_co_in_gn5"
   ]
  },
  {
   "cell_type": "markdown",
   "id": "104b37ac",
   "metadata": {},
   "source": [
    "plt.plot(values,potential_energy_co_in_gn5,marker='o',color='black')\n",
    "plt.xlabel('Distance From Origin')\n",
    "plt.ylabel('Potential_energy')\n",
    "plt.title(\"Energy of Combined System(5,5-Nanotube,CO) \")"
   ]
  },
  {
   "cell_type": "markdown",
   "id": "122811ee",
   "metadata": {},
   "source": [
    "difference_co_gn5 =[]\n",
    "for i in range(n):\n",
    "    difference_co_gn5.append(gn_potential_energy[1] + co_potential - potential_energy_co_in_gn5[i])\n",
    "    \n",
    "difference_co_gn5"
   ]
  },
  {
   "cell_type": "markdown",
   "id": "adc498ba",
   "metadata": {},
   "source": [
    "plt.plot(values,difference_co_gn5,marker='x',color='red')\n",
    "plt.xlabel('Distance From Origin')\n",
    "plt.ylabel('Potential_energy_Difference')\n",
    "plt.title(\"Energy Difference btw Combined System and indiviual system of(5,5-Nanotube,CO) \")"
   ]
  },
  {
   "cell_type": "markdown",
   "id": "be4c648a",
   "metadata": {},
   "source": [
    "potential_energy_co_in_gn7 = []\n",
    "#potential_energy = np.array(potential_energy)\n",
    "for val in values:\n",
    "    co.position = co_init_position \n",
    "    co[0].position = co_init_position[0] + [0,0,val]\n",
    "    co[1].position = co_init_position[1] + [0,0,val] \n",
    "    \n",
    "    combined_co_gn7 = gn_7 + co\n",
    "    combined_co_gn7.calc = EMT()\n",
    "    #print(combined.get_potential_energy())\n",
    "    potential_energy_co_in_gn7.append(combined_co_gn7.get_potential_energy())\n",
    "    \n",
    "potential_energy_co_in_gn7"
   ]
  },
  {
   "cell_type": "markdown",
   "id": "8dd1ce21",
   "metadata": {},
   "source": [
    "plt.plot(values,potential_energy_co_in_gn7,marker='.',color='black')\n",
    "plt.xlabel('Distance From Origin')\n",
    "plt.ylabel('Potential_energy')\n",
    "plt.title(\"Energy of Combined System(7,7-Nanotube,CO) \")"
   ]
  },
  {
   "cell_type": "markdown",
   "id": "d6a342c2",
   "metadata": {},
   "source": [
    "difference_co_gn7 =[]\n",
    "for i in range(n):\n",
    "    difference_co_gn7.append(gn_potential_energy[2] + co_potential - potential_energy_co_in_gn7[i])\n",
    "    \n",
    "difference_co_gn7"
   ]
  },
  {
   "cell_type": "markdown",
   "id": "599875a7",
   "metadata": {},
   "source": [
    "plt.plot(values,difference_co_gn7,marker='.',color='red')\n",
    "plt.xlabel('Distance From Origin')\n",
    "plt.ylabel('Potential_energy_Difference')\n",
    "plt.title(\"Energy Difference btw Combined System and indiviual system of(7,7-Nanotube,CO) \")"
   ]
  },
  {
   "cell_type": "markdown",
   "id": "90c1e219",
   "metadata": {},
   "source": [
    "potential_energy_co_in_gn9 = []\n",
    "#potential_energy = np.array(potential_energy)\n",
    "for val in values:\n",
    "    co.position = co_init_position \n",
    "    co[0].position = co_init_position[0] + [0,0,val]\n",
    "    co[1].position = co_init_position[1] + [0,0,val] \n",
    "    \n",
    "    combined_co_gn9 = gn_9 + co\n",
    "    combined_co_gn9.calc = EMT()\n",
    "    #print(combined.get_potential_energy())\n",
    "    potential_energy_co_in_gn9.append(combined_co_gn9.get_potential_energy())\n",
    "    \n",
    "potential_energy_co_in_gn9"
   ]
  },
  {
   "cell_type": "markdown",
   "id": "44491bcc",
   "metadata": {},
   "source": [
    "plt.plot(values,potential_energy_co_in_gn9,marker='4',color='black')\n",
    "plt.xlabel('Distance From Origin')\n",
    "plt.ylabel('Potential_energy_Difference')\n",
    "plt.title(\"Energy of Combined System(9,9-Nanotube,CO) \")"
   ]
  },
  {
   "cell_type": "markdown",
   "id": "ab95d346",
   "metadata": {},
   "source": [
    "difference_co_gn9 =[]\n",
    "for i in range(n):\n",
    "    difference_co_gn9.append(gn_potential_energy[3] + co_potential - potential_energy_co_in_gn9[i])\n",
    "    \n",
    "difference_co_gn9"
   ]
  },
  {
   "cell_type": "markdown",
   "id": "00c1f2e8",
   "metadata": {},
   "source": [
    "plt.plot(values,difference_co_gn7,marker='4',color='red')\n",
    "plt.xlabel('Distance From Origin')\n",
    "plt.ylabel('Potential_energy_Difference')\n",
    "plt.title(\"Energy Difference btw Combined System and indiviual system of(9,9-Nanotube,CO) \")"
   ]
  },
  {
   "cell_type": "markdown",
   "id": "4274a881",
   "metadata": {},
   "source": [
    "view(combined_co_gn9,viewer='ase')"
   ]
  },
  {
   "cell_type": "markdown",
   "id": "01c576b4",
   "metadata": {},
   "source": [
    "view(combined_gn7_nh3,viewer='ase')"
   ]
  },
  {
   "cell_type": "markdown",
   "id": "fe3c857a",
   "metadata": {},
   "source": [
    "gn3_position = gn_3.get_positions()"
   ]
  },
  {
   "cell_type": "markdown",
   "id": "71d601ae",
   "metadata": {},
   "source": [
    "h2o.position = h2o_init_position \n",
    "h2o[0].position = h2o_init_position[0] + [0,0,2]\n",
    "h2o[1].position = h2o_init_position[1] + [0,0,2] \n",
    "h2o[2].position = h2o_init_position[2] + [0,0,2]\n",
    "combined_gn3_h2o = gn_3 + h2o\n",
    "view(combined_gn3_h2o,data=None,viewer='ase')"
   ]
  },
  {
   "cell_type": "markdown",
   "id": "c307945f",
   "metadata": {},
   "source": [
    "potential_energy_co_in_gn3 = np.array(potential_energy_co_in_gn3)\n",
    "potential_energy_co_in_gn_3_mean = potential_energy_co_in_gn3.mean()\n",
    "potential_energy_co_in_gn5 = np.array(potential_energy_co_in_gn5)\n",
    "potential_energy_co_in_gn_5_mean = potential_energy_co_in_gn5.mean()\n",
    "potential_energy_co_in_gn7 = np.array(potential_energy_co_in_gn7)\n",
    "potential_energy_co_in_gn_7_mean = potential_energy_co_in_gn7.mean()\n",
    "potential_energy_co_in_gn9 = np.array(potential_energy_co_in_gn9)\n",
    "potential_energy_co_in_gn_9_mean = potential_energy_co_in_gn9.mean()\n",
    "potential_energy_co_in_gn_9_mean"
   ]
  },
  {
   "cell_type": "code",
   "execution_count": null,
   "id": "e31d0b5f",
   "metadata": {},
   "outputs": [],
   "source": []
  }
 ],
 "metadata": {
  "kernelspec": {
   "display_name": "Python 3 (ipykernel)",
   "language": "python",
   "name": "python3"
  },
  "language_info": {
   "codemirror_mode": {
    "name": "ipython",
    "version": 3
   },
   "file_extension": ".py",
   "mimetype": "text/x-python",
   "name": "python",
   "nbconvert_exporter": "python",
   "pygments_lexer": "ipython3",
   "version": "3.11.5"
  }
 },
 "nbformat": 4,
 "nbformat_minor": 5
}
